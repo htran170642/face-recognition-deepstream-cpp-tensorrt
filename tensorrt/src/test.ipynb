{
 "cells": [
  {
   "cell_type": "code",
   "execution_count": 3,
   "metadata": {},
   "outputs": [],
   "source": [
    "import cv2"
   ]
  },
  {
   "cell_type": "code",
   "execution_count": 4,
   "metadata": {},
   "outputs": [
    {
     "data": {
      "text/plain": [
       "(189, 147, 3)"
      ]
     },
     "execution_count": 4,
     "metadata": {},
     "output_type": "execute_result"
    }
   ],
   "source": [
    "img1 = cv2.imread(\"/home/hiep/dev/test_face_recognition/hiep1.jpg\")\n",
    "img1.shape"
   ]
  },
  {
   "cell_type": "code",
   "execution_count": 5,
   "metadata": {},
   "outputs": [
    {
     "data": {
      "text/plain": [
       "array([[[ 90,  89, 215],\n",
       "        [ 85,  82, 208],\n",
       "        [ 95,  91, 217],\n",
       "        ...,\n",
       "        [ 18,  17,  33],\n",
       "        [ 21,  20,  36],\n",
       "        [ 24,  23,  39]],\n",
       "\n",
       "       [[ 92,  91, 217],\n",
       "        [ 88,  85, 211],\n",
       "        [ 97,  93, 219],\n",
       "        ...,\n",
       "        [ 19,  19,  33],\n",
       "        [ 22,  21,  37],\n",
       "        [ 25,  24,  40]],\n",
       "\n",
       "       [[ 94,  91, 217],\n",
       "        [ 89,  86, 212],\n",
       "        [ 96,  92, 218],\n",
       "        ...,\n",
       "        [ 19,  19,  33],\n",
       "        [ 21,  21,  35],\n",
       "        [ 24,  24,  38]],\n",
       "\n",
       "       ...,\n",
       "\n",
       "       [[224, 232, 239],\n",
       "        [218, 226, 233],\n",
       "        [214, 222, 229],\n",
       "        ...,\n",
       "        [ 84,  95, 103],\n",
       "        [105, 116, 124],\n",
       "        [127, 138, 146]],\n",
       "\n",
       "       [[221, 229, 236],\n",
       "        [216, 224, 231],\n",
       "        [212, 220, 227],\n",
       "        ...,\n",
       "        [ 99, 108, 117],\n",
       "        [113, 124, 132],\n",
       "        [127, 138, 146]],\n",
       "\n",
       "       [[217, 225, 232],\n",
       "        [213, 221, 228],\n",
       "        [211, 219, 226],\n",
       "        ...,\n",
       "        [ 99, 108, 117],\n",
       "        [114, 125, 133],\n",
       "        [123, 134, 142]]], dtype=uint8)"
      ]
     },
     "execution_count": 5,
     "metadata": {},
     "output_type": "execute_result"
    }
   ],
   "source": [
    "img1"
   ]
  },
  {
   "cell_type": "code",
   "execution_count": 6,
   "metadata": {},
   "outputs": [
    {
     "data": {
      "text/plain": [
       "(189, 147, 3)"
      ]
     },
     "execution_count": 6,
     "metadata": {},
     "output_type": "execute_result"
    }
   ],
   "source": [
    "img1 = cv2.imread(\"/home/hiep/dev/test_face_recognition_tensorrt_deepstream/face-recognition/tensorrt/src/build/encode2.jpg\")\n",
    "img1.shape"
   ]
  },
  {
   "cell_type": "code",
   "execution_count": 7,
   "metadata": {},
   "outputs": [
    {
     "data": {
      "text/plain": [
       "array([[[ 92,  90, 214],\n",
       "        [ 85,  83, 206],\n",
       "        [ 97,  93, 212],\n",
       "        ...,\n",
       "        [ 20,  17,  32],\n",
       "        [ 23,  20,  35],\n",
       "        [ 26,  23,  38]],\n",
       "\n",
       "       [[ 93,  91, 215],\n",
       "        [ 89,  86, 209],\n",
       "        [ 99,  95, 214],\n",
       "        ...,\n",
       "        [ 21,  18,  33],\n",
       "        [ 24,  21,  36],\n",
       "        [ 27,  24,  39]],\n",
       "\n",
       "       [[ 95,  91, 216],\n",
       "        [ 90,  87, 210],\n",
       "        [ 98,  93, 214],\n",
       "        ...,\n",
       "        [ 19,  19,  33],\n",
       "        [ 22,  21,  37],\n",
       "        [ 24,  23,  39]],\n",
       "\n",
       "       ...,\n",
       "\n",
       "       [[224, 232, 239],\n",
       "        [218, 226, 233],\n",
       "        [214, 222, 229],\n",
       "        ...,\n",
       "        [ 85,  94, 103],\n",
       "        [105, 116, 124],\n",
       "        [129, 140, 148]],\n",
       "\n",
       "       [[221, 229, 236],\n",
       "        [216, 224, 231],\n",
       "        [212, 220, 227],\n",
       "        ...,\n",
       "        [ 99, 108, 117],\n",
       "        [112, 123, 131],\n",
       "        [129, 140, 148]],\n",
       "\n",
       "       [[217, 225, 232],\n",
       "        [213, 221, 228],\n",
       "        [211, 219, 226],\n",
       "        ...,\n",
       "        [101, 110, 119],\n",
       "        [112, 123, 131],\n",
       "        [124, 135, 143]]], dtype=uint8)"
      ]
     },
     "execution_count": 7,
     "metadata": {},
     "output_type": "execute_result"
    }
   ],
   "source": [
    "img1"
   ]
  },
  {
   "cell_type": "code",
   "execution_count": null,
   "metadata": {},
   "outputs": [],
   "source": []
  }
 ],
 "metadata": {
  "kernelspec": {
   "display_name": "Python 3.8.15 ('py3.8')",
   "language": "python",
   "name": "python3"
  },
  "language_info": {
   "codemirror_mode": {
    "name": "ipython",
    "version": 3
   },
   "file_extension": ".py",
   "mimetype": "text/x-python",
   "name": "python",
   "nbconvert_exporter": "python",
   "pygments_lexer": "ipython3",
   "version": "3.8.15"
  },
  "orig_nbformat": 4,
  "vscode": {
   "interpreter": {
    "hash": "f718d8c0caddd6e4097c67389d778f10ea1dd5654a5af61ba50aba26f3650d3c"
   }
  }
 },
 "nbformat": 4,
 "nbformat_minor": 2
}
